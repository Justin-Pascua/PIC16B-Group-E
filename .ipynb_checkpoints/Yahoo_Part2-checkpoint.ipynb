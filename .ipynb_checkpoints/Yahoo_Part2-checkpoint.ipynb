{
 "cells": [
  {
   "cell_type": "code",
   "execution_count": 1,
   "id": "095f4204-d9f3-4406-9f36-946a01a2c039",
   "metadata": {},
   "outputs": [
    {
     "name": "stdout",
     "output_type": "stream",
     "text": [
      "Requirement already satisfied: yfinance in /opt/anaconda3/envs/PIC16B-25W/lib/python3.11/site-packages (0.2.54)\n",
      "Requirement already satisfied: pandas>=1.3.0 in /opt/anaconda3/envs/PIC16B-25W/lib/python3.11/site-packages (from yfinance) (2.0.3)\n",
      "Requirement already satisfied: numpy>=1.16.5 in /opt/anaconda3/envs/PIC16B-25W/lib/python3.11/site-packages (from yfinance) (1.26.2)\n",
      "Requirement already satisfied: requests>=2.31 in /opt/anaconda3/envs/PIC16B-25W/lib/python3.11/site-packages (from yfinance) (2.32.3)\n",
      "Requirement already satisfied: multitasking>=0.0.7 in /opt/anaconda3/envs/PIC16B-25W/lib/python3.11/site-packages (from yfinance) (0.0.11)\n",
      "Requirement already satisfied: platformdirs>=2.0.0 in /opt/anaconda3/envs/PIC16B-25W/lib/python3.11/site-packages (from yfinance) (4.3.6)\n",
      "Requirement already satisfied: pytz>=2022.5 in /opt/anaconda3/envs/PIC16B-25W/lib/python3.11/site-packages (from yfinance) (2024.2)\n",
      "Requirement already satisfied: frozendict>=2.3.4 in /opt/anaconda3/envs/PIC16B-25W/lib/python3.11/site-packages (from yfinance) (2.4.6)\n",
      "Requirement already satisfied: peewee>=3.16.2 in /opt/anaconda3/envs/PIC16B-25W/lib/python3.11/site-packages (from yfinance) (3.17.9)\n",
      "Requirement already satisfied: beautifulsoup4>=4.11.1 in /opt/anaconda3/envs/PIC16B-25W/lib/python3.11/site-packages (from yfinance) (4.12.3)\n",
      "Requirement already satisfied: soupsieve>1.2 in /opt/anaconda3/envs/PIC16B-25W/lib/python3.11/site-packages (from beautifulsoup4>=4.11.1->yfinance) (2.5)\n",
      "Requirement already satisfied: python-dateutil>=2.8.2 in /opt/anaconda3/envs/PIC16B-25W/lib/python3.11/site-packages (from pandas>=1.3.0->yfinance) (2.9.0)\n",
      "Requirement already satisfied: tzdata>=2022.1 in /opt/anaconda3/envs/PIC16B-25W/lib/python3.11/site-packages (from pandas>=1.3.0->yfinance) (2024.2)\n",
      "Requirement already satisfied: charset-normalizer<4,>=2 in /opt/anaconda3/envs/PIC16B-25W/lib/python3.11/site-packages (from requests>=2.31->yfinance) (3.3.2)\n",
      "Requirement already satisfied: idna<4,>=2.5 in /opt/anaconda3/envs/PIC16B-25W/lib/python3.11/site-packages (from requests>=2.31->yfinance) (3.10)\n",
      "Requirement already satisfied: urllib3<3,>=1.21.1 in /opt/anaconda3/envs/PIC16B-25W/lib/python3.11/site-packages (from requests>=2.31->yfinance) (1.26.20)\n",
      "Requirement already satisfied: certifi>=2017.4.17 in /opt/anaconda3/envs/PIC16B-25W/lib/python3.11/site-packages (from requests>=2.31->yfinance) (2024.8.30)\n",
      "Requirement already satisfied: six>=1.5 in /opt/anaconda3/envs/PIC16B-25W/lib/python3.11/site-packages (from python-dateutil>=2.8.2->pandas>=1.3.0->yfinance) (1.16.0)\n",
      "YF.download() has changed argument auto_adjust default to True\n"
     ]
    },
    {
     "name": "stderr",
     "output_type": "stream",
     "text": [
      "[*********************100%***********************]  1 of 1 completed\n",
      "[*********************100%***********************]  1 of 1 completed\n",
      "[*********************100%***********************]  8 of 8 completed\n",
      "[*********************100%***********************]  1 of 1 completed\n",
      "[*********************100%***********************]  1 of 1 completed\n",
      "[*********************100%***********************]  1 of 1 completed\n",
      "[*********************100%***********************]  1 of 1 completed\n",
      "[*********************100%***********************]  1 of 1 completed\n",
      "[*********************100%***********************]  1 of 1 completed\n",
      "[*********************100%***********************]  1 of 1 completed\n",
      "[*********************100%***********************]  1 of 1 completed\n",
      "[*********************100%***********************]  1 of 1 completed\n"
     ]
    }
   ],
   "source": [
    "%run yahoodata.ipynb"
   ]
  },
  {
   "cell_type": "code",
   "execution_count": 2,
   "id": "26a8784f-625f-4782-b557-f6e001f5b264",
   "metadata": {
    "tags": []
   },
   "outputs": [],
   "source": [
    "import os"
   ]
  },
  {
   "cell_type": "code",
   "execution_count": 3,
   "id": "f07fe661-ee19-43da-910b-b3bad909184f",
   "metadata": {
    "tags": []
   },
   "outputs": [],
   "source": [
    "#Create path from dataframe to csv to folder\n",
    "folder_path = 'csv_data_yahoo'\n",
    "filename = 'aapl_experiment.csv'\n",
    "full_path = os.path.join(folder_path, filename)"
   ]
  },
  {
   "cell_type": "code",
   "execution_count": 4,
   "id": "0dee062c-225a-41c0-b4e5-4806f6606e1b",
   "metadata": {
    "tags": []
   },
   "outputs": [
    {
     "name": "stderr",
     "output_type": "stream",
     "text": [
      "[*********************100%***********************]  1 of 1 completed\n",
      "[*********************100%***********************]  1 of 1 completed\n",
      "[*********************100%***********************]  1 of 1 completed\n"
     ]
    }
   ],
   "source": [
    "#Create dataframe\n",
    "df_experiment = get_all_features('AAPL', '2022-01-01', '2025-02-21')"
   ]
  },
  {
   "cell_type": "code",
   "execution_count": 5,
   "id": "bf266b7b-8758-4478-b634-c1bd60fbae04",
   "metadata": {
    "tags": []
   },
   "outputs": [],
   "source": [
    "#Save df as csv\n",
    "df.to_csv(full_path)"
   ]
  },
  {
   "cell_type": "code",
   "execution_count": 6,
   "id": "5b5d8beb-af31-4f1b-b811-72ae59539e92",
   "metadata": {},
   "outputs": [
    {
     "name": "stderr",
     "output_type": "stream",
     "text": [
      "[*********************100%***********************]  1 of 1 completed\n",
      "[*********************100%***********************]  1 of 1 completed\n",
      "[*********************100%***********************]  1 of 1 completed\n"
     ]
    }
   ],
   "source": [
    "folder_path = 'csv_data_yahoo'\n",
    "filename = 'NVDA_smooth_0.8.csv'\n",
    "full_path = os.path.join(folder_path, filename)\n",
    "df_1 = get_all_features('NVDA', '2021-01-01', '2025-01-31', alpha = 0.8, smoothing = True)\n",
    "df_1.to_csv(full_path)"
   ]
  },
  {
   "cell_type": "code",
   "execution_count": 8,
   "id": "d1ad7709-efda-47e0-9ce1-5ebdad4d5107",
   "metadata": {
    "tags": []
   },
   "outputs": [
    {
     "name": "stderr",
     "output_type": "stream",
     "text": [
      "[*********************100%***********************]  1 of 1 completed\n",
      "[*********************100%***********************]  1 of 1 completed\n",
      "[*********************100%***********************]  1 of 1 completed\n"
     ]
    }
   ],
   "source": [
    "folder_path = 'csv_data_yahoo'\n",
    "filename = 'NVDA_unsmooth_0.8.csv'\n",
    "full_path = os.path.join(folder_path, filename)\n",
    "df_1 = get_all_features('NVDA', '2021-01-01', '2025-01-31', smoothing = False)\n",
    "df_1.to_csv(full_path)"
   ]
  },
  {
   "cell_type": "code",
   "execution_count": 9,
   "id": "f934f75f-a02e-4714-9305-d6bbc4337cf9",
   "metadata": {},
   "outputs": [
    {
     "name": "stderr",
     "output_type": "stream",
     "text": [
      "[*********************100%***********************]  1 of 1 completed\n",
      "[*********************100%***********************]  1 of 1 completed\n",
      "[*********************100%***********************]  1 of 1 completed\n"
     ]
    }
   ],
   "source": [
    "folder_path = 'csv_data_yahoo'\n",
    "filename = 'VOO_smooth_0.8.csv'\n",
    "full_path = os.path.join(folder_path, filename)\n",
    "df_2 = get_all_features('VOO', '2021-01-01', '2025-01-31', alpha = 0.8, smoothing = True)\n",
    "df_2.to_csv(full_path)"
   ]
  },
  {
   "cell_type": "code",
   "execution_count": 10,
   "id": "1c126633-4163-41f0-94b4-fd1c94bff74e",
   "metadata": {
    "tags": []
   },
   "outputs": [
    {
     "name": "stderr",
     "output_type": "stream",
     "text": [
      "[*********************100%***********************]  1 of 1 completed\n",
      "[*********************100%***********************]  1 of 1 completed\n",
      "[*********************100%***********************]  1 of 1 completed\n"
     ]
    }
   ],
   "source": [
    "folder_path = 'csv_data_yahoo'\n",
    "filename = 'VOO_unsmooth_0.8.csv'\n",
    "full_path = os.path.join(folder_path, filename)\n",
    "df_2 = get_all_features('VOO', '2021-01-01', '2025-01-31', smoothing = False)\n",
    "df_2.to_csv(full_path)"
   ]
  },
  {
   "cell_type": "code",
   "execution_count": 11,
   "id": "eb57624f-7b69-41e9-b327-477273125e70",
   "metadata": {
    "tags": []
   },
   "outputs": [
    {
     "name": "stderr",
     "output_type": "stream",
     "text": [
      "[*********************100%***********************]  1 of 1 completed\n",
      "[*********************100%***********************]  1 of 1 completed\n",
      "[*********************100%***********************]  1 of 1 completed\n"
     ]
    }
   ],
   "source": [
    "folder_path = 'csv_data_yahoo'\n",
    "filename = 'TSLA_smooth_0.8.csv'\n",
    "full_path = os.path.join(folder_path, filename)\n",
    "df_3 = get_all_features('TSLA', '2021-01-01', '2025-01-31', alpha = 0.8, smoothing = True)\n",
    "df_3.to_csv(full_path)"
   ]
  },
  {
   "cell_type": "code",
   "execution_count": 12,
   "id": "0792c4e3-17cc-4e17-8e2d-ed4bcd653e71",
   "metadata": {
    "tags": []
   },
   "outputs": [
    {
     "name": "stderr",
     "output_type": "stream",
     "text": [
      "[*********************100%***********************]  1 of 1 completed\n",
      "[*********************100%***********************]  1 of 1 completed\n",
      "[*********************100%***********************]  1 of 1 completed\n"
     ]
    }
   ],
   "source": [
    "folder_path = 'csv_data_yahoo'\n",
    "filename = 'TSLA_unsmooth_0.8.csv'\n",
    "full_path = os.path.join(folder_path, filename)\n",
    "df_3 = get_all_features('TSLA', '2021-01-01', '2025-01-31', smoothing = False)\n",
    "df_3.to_csv(full_path)"
   ]
  },
  {
   "cell_type": "code",
   "execution_count": 13,
   "id": "26c097e6-6c30-4fd6-9dbc-e17954493c23",
   "metadata": {},
   "outputs": [
    {
     "name": "stderr",
     "output_type": "stream",
     "text": [
      "[*********************100%***********************]  1 of 1 completed\n",
      "[*********************100%***********************]  1 of 1 completed\n",
      "[*********************100%***********************]  1 of 1 completed\n"
     ]
    }
   ],
   "source": [
    "folder_path = 'csv_data_yahoo'\n",
    "filename = 'GOOGL_smooth_0.8.csv'\n",
    "full_path = os.path.join(folder_path, filename)\n",
    "df_4 = get_all_features('GOOGL', '2021-01-01', '2025-01-31', alpha = 0.8, smoothing = True)\n",
    "df_4.to_csv(full_path)"
   ]
  },
  {
   "cell_type": "code",
   "execution_count": 14,
   "id": "58300626-8d34-47ff-8ce6-f15603ce8962",
   "metadata": {
    "tags": []
   },
   "outputs": [
    {
     "name": "stderr",
     "output_type": "stream",
     "text": [
      "[*********************100%***********************]  1 of 1 completed\n",
      "[*********************100%***********************]  1 of 1 completed\n",
      "[*********************100%***********************]  1 of 1 completed\n"
     ]
    }
   ],
   "source": [
    "folder_path = 'csv_data_yahoo'\n",
    "filename = 'GOOGL_unsmooth_0.8.csv'\n",
    "full_path = os.path.join(folder_path, filename)\n",
    "df_4 = get_all_features('GOOGL', '2021-01-01', '2025-01-31', smoothing = False)\n",
    "df_4.to_csv(full_path)"
   ]
  },
  {
   "cell_type": "code",
   "execution_count": 15,
   "id": "3792fa8d-4127-4235-b165-6d7532e783a2",
   "metadata": {
    "tags": []
   },
   "outputs": [
    {
     "name": "stderr",
     "output_type": "stream",
     "text": [
      "[*********************100%***********************]  1 of 1 completed\n",
      "[*********************100%***********************]  1 of 1 completed\n",
      "[*********************100%***********************]  1 of 1 completed\n"
     ]
    }
   ],
   "source": [
    "folder_path = 'csv_data_yahoo'\n",
    "filename = 'AAPL_smooth_0.8.csv'\n",
    "full_path = os.path.join(folder_path, filename)\n",
    "df_5 = get_all_features('AAPL', '2021-01-01', '2025-01-31', alpha = 0.8, smoothing = True)\n",
    "df_5.to_csv(full_path)"
   ]
  },
  {
   "cell_type": "code",
   "execution_count": 16,
   "id": "9c862d6c-9e54-443b-8761-58c634556104",
   "metadata": {
    "tags": []
   },
   "outputs": [
    {
     "name": "stderr",
     "output_type": "stream",
     "text": [
      "[*********************100%***********************]  1 of 1 completed\n",
      "[*********************100%***********************]  1 of 1 completed\n",
      "[*********************100%***********************]  1 of 1 completed\n"
     ]
    }
   ],
   "source": [
    "folder_path = 'csv_data_yahoo'\n",
    "filename = 'AAPL_unsmooth_0.8.csv'\n",
    "full_path = os.path.join(folder_path, filename)\n",
    "df_5 = get_all_features('AAPL', '2021-01-01', '2025-01-31', smoothing = False)\n",
    "df_5.to_csv(full_path)"
   ]
  },
  {
   "cell_type": "code",
   "execution_count": null,
   "id": "69cde7c3-e9d5-4497-a65e-4f93f2f08a65",
   "metadata": {},
   "outputs": [],
   "source": []
  }
 ],
 "metadata": {
  "kernelspec": {
   "display_name": "Python [conda env:PIC16B-25W] *",
   "language": "python",
   "name": "conda-env-PIC16B-25W-py"
  },
  "language_info": {
   "codemirror_mode": {
    "name": "ipython",
    "version": 3
   },
   "file_extension": ".py",
   "mimetype": "text/x-python",
   "name": "python",
   "nbconvert_exporter": "python",
   "pygments_lexer": "ipython3",
   "version": "3.11.6"
  }
 },
 "nbformat": 4,
 "nbformat_minor": 5
}
